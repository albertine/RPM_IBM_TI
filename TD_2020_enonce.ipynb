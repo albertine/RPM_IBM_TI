{
 "cells": [
  {
   "cell_type": "markdown",
   "metadata": {
    "id": "7IFiSPnOmnfk"
   },
   "source": [
    "# TD de traitements d'images - correction\n",
    "### M2 RPM et IBM - 2020\n",
    "\n"
   ]
  },
  {
   "cell_type": "markdown",
   "metadata": {
    "id": "2OSgP10dVyXo"
   },
   "source": [
    "# Exercice 1 - Grille d'échantillonnage\n",
    "----\n",
    "\n",
    "Une image radiologique présente une résolution spatiale de $0,5\\ mm$. Les dimensions du film sont $36 \\times 43\\ cm²$. Sur combien de pixels est-il pertinent de numériser cette image ?"
   ]
  },
  {
   "cell_type": "markdown",
   "metadata": {
    "id": "MxQdfAe1RtLs"
   },
   "source": [
    "# Exercice 2 - Qualité d'images\n",
    "----\n",
    "\n",
    "Pour la détection du cancer du sein, deux types de techniques d'imagerie sont le plus souvent utilisés : la mammographie (MAM) et l'imagerie par résonance magnétique (IRM).\n",
    "\n",
    "On fait l'acquisition d'un point blanc (intensité $255$) sur un fond noir (intensité $0$) avec ces 2 systèmes. La figure ci-dessous réprésente les profils d'intensité de la ligne centrale des images obtenues avec les deux systèmes. Les images sont de taille $64 \\times 64$ pixels. \n",
    "\n",
    "<center>\n",
    "<img src=\"./data/impulsion.png\" width=\"300\" align=\"center;\" />\n",
    "<img src=\"./data/qualite1.png\" width=\"500\" align=\"center;\" />\n",
    "</center>\n",
    "\n",
    "1. \n",
    "Sur un même graphe, dessinez grossièrement l'allure des fonctions de transfert de modulation de ces deux systèmes.\n",
    "<center>\n",
    "$FTM(u) = \\frac{H(u)}{H(0)}$ avec $H$ la transformée de Fourier\n",
    "</center> \n",
    "2. \n",
    "Lequel de ces 2 systèmes offre un meilleur contraste ?\n",
    "3. \n",
    "Lequel de ces 2 systèmes offre une meilleure résolution ?\n",
    "4. \n",
    "En jugeant uniquement sur la qualité d'images, quel serait le système optimal pour détecter des petites tumeurs ?"
   ]
  },
  {
   "cell_type": "markdown",
   "metadata": {
    "id": "oKJkF572Idow"
   },
   "source": [
    "# Exercice 3 - Manipulation d'histogramme\n",
    "----\n",
    "1. Identifiez à quelles régions de l'image ci-dessous correspondent les différents modes de l'histogramme \n",
    "<center>\n",
    "<img src=\"./data/ex5a.png\" width=500 align='center'>\n",
    "</center>\n",
    "2. Différents traitements ont été appliqués à l'image : associez chaque histogramme numéroté de 1 à 4 à son image correspondante et précisez la transformation effectuée\n",
    "<center>\n",
    "<img src=\"./data/ex5b.png\" width=1000 align='center'>\n",
    "</center>"
   ]
  },
  {
   "cell_type": "markdown",
   "metadata": {
    "id": "jYOaJdKhJIrQ"
   },
   "source": [
    "# Exercice 4 - Convolution\n",
    "---------\n",
    "\n",
    "On observe l’image à niveaux de gris $f$ et le filtre $h$ définis ci-dessous :\n",
    "\n",
    "$$f=\\begin{pmatrix} 0&0&0&0 \\\\ 0&1&1&0 \\\\ 0&2&1&0 \\\\ 0&0&1&0 \\end{pmatrix} \\qquad  h=\\begin{pmatrix} 0&0&0 \\\\ 1&-1&1 \\\\ 0&1&0 \\end{pmatrix}$$\n",
    "\n",
    "Calculez le résultat des convolutions de $f$ par $h$ dans les cas suivants de gestion de bords :\n",
    "    \n",
    "1. complétion avec des zéros \n",
    "\n",
    "2. miroir\n",
    "\n",
    "3. répétition "
   ]
  },
  {
   "cell_type": "markdown",
   "metadata": {
    "id": "mH7vKuXqJ1Xk"
   },
   "source": [
    "# Exercice 5 - Histogramme et filtrage médian\n",
    "----\n",
    "\n",
    "La matrice ci-dessous représente les valeurs des pixels d'une image $I$, en niveaux de gris, de taille $8 \\times 8$ dont ces valeurs sont codées sur 8 bits.\n",
    "\n",
    "$$I=\\begin{pmatrix} 122&122&122&59&59&30&30&30 \\\\ 122&0&59&59&255&59&30&30 \\\\ 122&122&59&0&59&59&0&30 \\\\ 122&122&59&59&59&59&30&30 \\\\ 122&255&122&59&59&30&30&30 \\\\ 45&45&0&45&60&60&60&60 \\\\ 45&45&45&45&255&60&0&60 \\\\ 45&45&45&45&60&60&60&60 \\end{pmatrix}$$\n",
    "\n",
    "1. \n",
    "Complétez le tableau suivant \n",
    "<table style=\"float: center; width: 100%;\" border=\"2\">\n",
    "<tbody>\n",
    "<tr>\n",
    "<td>Niveau de gris</td>\n",
    "<td>0</td>\n",
    "<td>30</td>\n",
    "<td>45</td>\n",
    "<td>59</td>\n",
    "<td>60</td>\n",
    "<td>122</td>\n",
    "<td>255</td>\n",
    "</tr>\n",
    "<tr>\n",
    "<td>Histogramme</td>\n",
    "<td>&nbsp;</td>\n",
    "<td>&nbsp;</td>\n",
    "<td>&nbsp;</td>\n",
    "<td>&nbsp;</td>\n",
    "<td>&nbsp;</td>\n",
    "<td>&nbsp;</td>\n",
    "<td>&nbsp;</td>\n",
    "</tr>\n",
    "<tr>\n",
    "<td>Histogramme cumulé</td>\n",
    "<td>&nbsp;</td>\n",
    "<td>&nbsp;</td>\n",
    "<td>&nbsp;</td>\n",
    "<td>&nbsp;</td>\n",
    "<td>&nbsp;</td>\n",
    "<td>&nbsp;</td>\n",
    "<td>&nbsp;</td>\n",
    "</tr>\n",
    "</tbody>\n",
    "</table>\n",
    "2. \n",
    "Appliquez un filtre médian, avec un filtre de taille $3 \\times 3$, sur l'image $I$. Donnez la matrice image résultante\n",
    "\n",
    "3. \n",
    "Quelle est la catégorie de ce filtre ? Quel type de bruit veut-on supprimer sur cette image ? Commentez le résultat du filtrage"
   ]
  },
  {
   "cell_type": "markdown",
   "metadata": {
    "id": "DkRdgeB6LBP_"
   },
   "source": [
    "# Exercice 6 - Filtrage spatial\n",
    "----\n",
    "\n",
    "Différents filtres spatiaux, numérotés de 1 à 6, ont été appliqués à une image de test et ont donné les images résultantes identifiées de A à F. Retrouvez les correspondances et pour chacune, justifiez les réponses.\n",
    "\n",
    "1. $\\begin{pmatrix} -1&-1&-1 \\\\ 0&0&0 \\\\ 1&1&1 \\end{pmatrix}$<br>\n",
    "2. $\\frac{1}{16}\\begin{pmatrix} 1&2&1 \\\\ 2&4&2 \\\\ 1&2&1 \\end{pmatrix}$<br>\n",
    "3. $\\frac{1}{16}\\begin{pmatrix} -1&-2&-1 \\\\ -2&12&-2 \\\\ -1&-2&-1 \\end{pmatrix}$<br>\n",
    "4. $\\begin{pmatrix} -1&0&1 \\\\ -1&0&1 \\\\ -1&0&1 \\end{pmatrix}$<br>\n",
    "5. $\\frac{1}{15²}\\begin{pmatrix} 1& \\cdots &1 \\\\ \\vdots & \\ddots & \\vdots \\\\ 1& \\cdots &1 \\end{pmatrix}$<br>\n",
    "6. filtre médian $3\\times3$\n",
    "\n",
    "<center>\n",
    "<img src=\"./data/ex8.png\" width=300>\n",
    "</center>\n",
    "<center>\n",
    "<img src=\"./data/filtrage.png\"  width=600>\n",
    "</center>\n",
    "\n"
   ]
  },
  {
   "cell_type": "markdown",
   "metadata": {
    "id": "mkEpR7SwS2xk"
   },
   "source": [
    "# Exercice 7\n",
    "----\n",
    "\n",
    "L'image suivante est une image à niveaux de gris de taille $8 \\times8$ pixels et dont les valeurs des niveaux de gros sont codés sur 8 bits. Cette image représente une forme rectangulaire sur un fond.\n",
    "\n",
    "<center>\n",
    "$$I=\\begin{pmatrix} 13&13&12&12&12&11&11&11 \\\\ 13&12&12&12&11&11&11&10 \\\\ 12&12&8&7&6&5&10&10 \\\\ 12&12&7&6&5&4&10&10  \\\\ 12&11&6&5&4&3&10&9 \\\\ 11&11&5&4&3&2&9&9 \\\\ 11&11&10&10&10&9&9&9 \\\\ 11&10&10&10&9&9&9&8 \\end{pmatrix}$$\n",
    "\n",
    "<img src=\"./data/rect.png\" width=500>\n",
    "</center>\n",
    "\n",
    "1. \n",
    "Représentez l'histogramme de cette image\n",
    "2. \n",
    "Donnez la fonction permettant le recadrage dynamique de cet histogramme de façon à utiliser toute la plage des niveaux de gris et donner la LUT correspondante en appliquant cette fonction aux differentes valeurs de niveaux de gris. Attention, cette LUT ne sera pas appliquée dans les questions suivantes\n",
    "3. \n",
    "Soit $h_1$ et $h_2$ les filtres de convolution definis respectivement par les noyaux suivants :\n",
    "$$h_1=\\begin{pmatrix} -1&-1&0 \\\\ -1&0&1 \\\\ 0&1&1 \\end{pmatrix} \\qquad h_2=\\frac{1}{10}\\begin{pmatrix} 1&1&1 \\\\ 1&2&1 \\\\ 1&1&1 \\end{pmatrix}$$ \n",
    "A quel type de filtres correspondent les filtres $h_1$ et $h_2$ ?\n",
    "4. \n",
    "Lequel de ces deux filtres faut-il utiliser pour effectuer une détection de contours sur l’image $I$ ? \n",
    "5. \n",
    "Quels sont les résultats de la convolution du filtre $h_1$ sur les pixels de l’image $I$ de coordonnees : (1,1), (2,2), (3,3), (4,4), (5,5), (6,6), (2,5) et (5,2) ? Que constatez-vous ? Quel filtre faudrait-il associer à $h_1$ pour améliorer le resultat ?\n",
    "6. \n",
    "Appliquer le filtre $h_2$ sur le pixel de l'image $I$ de coordonnées (2,2) ainsi qu’un filtre médian de taille $3\\times3$ puis comparer et discuter les resultats de ces deux filtres.\n",
    "7. \n",
    "En analysant l’image $I$ et son histogramme, binariser correctement l’image de façon à separer la forme rectangulaire du fond. Donner la valeur du seuil choisi et representer l’image binaire par des 0 et des 1."
   ]
  },
  {
   "cell_type": "markdown",
   "metadata": {
    "id": "DrF4R_AHTg3u"
   },
   "source": [
    "# Exercice 8 - Segmentation par croissance de régions\n",
    "-----\n",
    "On considère l’image $f$ dont les niveaux de gris sont donnés ci-dessous :\n",
    "\n",
    "<center>\n",
    "$$f=\\begin{pmatrix} 4&6&2&0&2&4&4&3 \\\\ 4&2&10&1&6&3&2&1 \\\\ 0&7&1&8&12&9&8&1 \\\\ 2&10&3&4&10&15&5&11  \\\\ 8&9&1&2&10&11&13&5 \\\\ 2&0&6&3&9&10&0&2 \\\\ 2&6&0&9&2&4&7&1 \\\\ 3&4&5&7&1&6&8&2 \\end{pmatrix}$$\n",
    "\n",
    "<img src=\"./data/croissance.png\" width=600>\n",
    "</center>\n",
    "\n",
    "\n",
    "\n",
    "Donnez la solution obtenue en effectuant une croissance de région dont le germe correspond au pixel indiqué par une croix rouge. \n",
    "\n",
    "Un pixel $f(x,y)$ est agrégé s’il a au moins un voisin $f(x',y')$ (dans le cas d’une 4–connexité) déjà agrégé tel que : \n",
    "\n",
    "$$ |f(x,y)-f(x',y')|\\leqslant 5 $$"
   ]
  }
 ],
 "metadata": {
  "celltoolbar": "Format de la Cellule Texte Brut",
  "colab": {
   "collapsed_sections": [],
   "name": "TD.ipynb",
   "provenance": []
  },
  "kernelspec": {
   "display_name": "Python 3",
   "language": "python",
   "name": "python3"
  },
  "language_info": {
   "codemirror_mode": {
    "name": "ipython",
    "version": 3
   },
   "file_extension": ".py",
   "mimetype": "text/x-python",
   "name": "python",
   "nbconvert_exporter": "python",
   "pygments_lexer": "ipython3",
   "version": "3.6.9"
  }
 },
 "nbformat": 4,
 "nbformat_minor": 1
}
